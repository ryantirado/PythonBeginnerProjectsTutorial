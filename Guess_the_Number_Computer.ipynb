{
 "cells": [
  {
   "cell_type": "markdown",
   "id": "010eec16-08ce-4765-ad99-02f400b186a2",
   "metadata": {},
   "source": [
    "<h3> Guess the Number"
   ]
  },
  {
   "cell_type": "markdown",
   "id": "8c468a1b-8d8b-4a75-b9fa-0eed969631b3",
   "metadata": {},
   "source": [
    "This program implements the classic \"Guess the Number\" game. The user is prompted to guess a randomly selected number within a defined range. The code provides feedback on each guess, indicating whether it's too high, too low, or correct. The game continues until the correct number is guessed. This exercise demonstrates basic Python programming concepts, including random number generation, loops, conditional statements, and user input handling."
   ]
  },
  {
   "cell_type": "code",
   "execution_count": 1,
   "id": "69a051dd-e92c-40d0-aa08-e0538a83875c",
   "metadata": {},
   "outputs": [],
   "source": [
    "import random"
   ]
  },
  {
   "cell_type": "code",
   "execution_count": 2,
   "id": "1eb650b5-ee7f-49ce-96c2-288309d72682",
   "metadata": {},
   "outputs": [
    {
     "name": "stdin",
     "output_type": "stream",
     "text": [
      "Guess a number between 1 and 20 10\n"
     ]
    },
    {
     "name": "stdout",
     "output_type": "stream",
     "text": [
      "Your guess was too low. Please input a higher number\n"
     ]
    },
    {
     "name": "stdin",
     "output_type": "stream",
     "text": [
      "Guess a number between 1 and 20 15\n"
     ]
    },
    {
     "name": "stdout",
     "output_type": "stream",
     "text": [
      "Your guess was too low. Please input a higher number\n"
     ]
    },
    {
     "name": "stdin",
     "output_type": "stream",
     "text": [
      "Guess a number between 1 and 20 16\n"
     ]
    },
    {
     "name": "stdout",
     "output_type": "stream",
     "text": [
      "Your guess was too low. Please input a higher number\n"
     ]
    },
    {
     "name": "stdin",
     "output_type": "stream",
     "text": [
      "Guess a number between 1 and 20 17\n"
     ]
    },
    {
     "name": "stdout",
     "output_type": "stream",
     "text": [
      "Congrats! Your guess of 20 was correct!\n"
     ]
    }
   ],
   "source": [
    "def guess(g):\n",
    "    user_guess = random.randint(1, g) # random.randint(a, b) Return a random integer N such that a <= N <= b. Alias for randrange(a, b+1).\n",
    "    guess = 0\n",
    "    while guess != user_guess:\n",
    "        guess = int(input(f\"Guess a number between 1 and {g}\"))\n",
    "        if guess < user_guess:\n",
    "            print(\"Your guess was too low. Please input a higher number\")\n",
    "        elif guess > user_guess:\n",
    "            print(\"Your guess was too high. Please input a lower number\")\n",
    "\n",
    "    print(f\"Congrats! Your guess of {g} was correct!\")\n",
    "\n",
    "guess(20)\n",
    "                    "
   ]
  },
  {
   "cell_type": "code",
   "execution_count": null,
   "id": "47aafa0b-5ede-4d0f-9f9d-b6c61d58c44f",
   "metadata": {},
   "outputs": [],
   "source": []
  }
 ],
 "metadata": {
  "kernelspec": {
   "display_name": "Python 3 (ipykernel)",
   "language": "python",
   "name": "python3"
  },
  "language_info": {
   "codemirror_mode": {
    "name": "ipython",
    "version": 3
   },
   "file_extension": ".py",
   "mimetype": "text/x-python",
   "name": "python",
   "nbconvert_exporter": "python",
   "pygments_lexer": "ipython3",
   "version": "3.11.6"
  }
 },
 "nbformat": 4,
 "nbformat_minor": 5
}
