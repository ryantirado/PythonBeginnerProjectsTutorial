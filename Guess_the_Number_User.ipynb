{
 "cells": [
  {
   "cell_type": "markdown",
   "id": "9f6591fb-b291-4f5d-b0ff-a40c672baa6b",
   "metadata": {},
   "source": [
    "<h3> Guess the Number (User) "
   ]
  },
  {
   "cell_type": "markdown",
   "id": "ea3784b0-7046-4b2f-aac7-90679b03a86f",
   "metadata": {},
   "source": [
    "In \"Guess the Number (User Edition)\", the roles are reversed compared to the classic game. Here, the computer tries to guess a number chosen by the user. The user sets the range and picks a number within it. The computer makes guesses, while the user gives feedback if each guess is too high, too low, or correct. The game showcases algorithms for efficient guessing, like binary search, and continues until the computer guesses correctly. It's a simple yet engaging demonstration of user-computer interaction, decision-making algorithms, and basic programming concepts in Python."
   ]
  },
  {
   "cell_type": "code",
   "execution_count": 1,
   "id": "1929b7c2-5f18-4fc2-8a89-55136c4ef5ef",
   "metadata": {},
   "outputs": [],
   "source": [
    "import random "
   ]
  },
  {
   "cell_type": "markdown",
   "id": "38e99aba-c85c-4051-b904-fcd17bb74871",
   "metadata": {},
   "source": [
    "In \"computer_guess(x)\", the computer repeatedly guesses a number between 1 and x, and the user indicates if each guess is too high (H), too low (L), or correct (C), until the computer successfully guesses the user's chosen number."
   ]
  },
  {
   "cell_type": "code",
   "execution_count": 2,
   "id": "13f52bab-dc10-4479-b163-e34eca25d139",
   "metadata": {},
   "outputs": [
    {
     "name": "stdin",
     "output_type": "stream",
     "text": [
      "Is 59 too high (H), too low (L), or correct (C)!!  l\n",
      "Is 75 too high (H), too low (L), or correct (C)!!  l\n",
      "Is 97 too high (H), too low (L), or correct (C)!!  l\n",
      "Is 357 too high (H), too low (L), or correct (C)!!  h\n",
      "Is 289 too high (H), too low (L), or correct (C)!!  h\n",
      "Is 278 too high (H), too low (L), or correct (C)!!  h\n",
      "Is 206 too high (H), too low (L), or correct (C)!!  l\n",
      "Is 210 too high (H), too low (L), or correct (C)!!  l\n",
      "Is 247 too high (H), too low (L), or correct (C)!!  l\n",
      "Is 264 too high (H), too low (L), or correct (C)!!  h\n",
      "Is 254 too high (H), too low (L), or correct (C)!!  h\n",
      "Is 248 too high (H), too low (L), or correct (C)!!  l\n",
      "Is 252 too high (H), too low (L), or correct (C)!!  h\n",
      "Is 250 too high (H), too low (L), or correct (C)!!  c\n"
     ]
    },
    {
     "name": "stdout",
     "output_type": "stream",
     "text": [
      "Yay! The computer guessed your number, {guess}, correctly!\n"
     ]
    }
   ],
   "source": [
    "def computer_guess(x):\n",
    "    low = 1\n",
    "    high = x\n",
    "    feedback = \"\"\n",
    "    while feedback != 'c':\n",
    "        if low != high:\n",
    "            guess = random.randint(low, high)\n",
    "        else:\n",
    "            guess = low # could also be high b/c low = high\n",
    "        feedback = input(f'Is {guess} too high (H), too low (L), or correct (C)!! ').lower()\n",
    "        if feedback == 'h':\n",
    "            high = guess - 1\n",
    "        elif feedback == 'l':\n",
    "            low = guess + 1\n",
    "\n",
    "    print('Yay! The computer guessed your number, {guess}, correctly!')\n",
    "\n",
    "computer_guess(500)"
   ]
  },
  {
   "cell_type": "code",
   "execution_count": null,
   "id": "d0a98dbe-cad5-43bd-ab6a-b278d840e42f",
   "metadata": {},
   "outputs": [],
   "source": []
  }
 ],
 "metadata": {
  "kernelspec": {
   "display_name": "Python 3 (ipykernel)",
   "language": "python",
   "name": "python3"
  },
  "language_info": {
   "codemirror_mode": {
    "name": "ipython",
    "version": 3
   },
   "file_extension": ".py",
   "mimetype": "text/x-python",
   "name": "python",
   "nbconvert_exporter": "python",
   "pygments_lexer": "ipython3",
   "version": "3.11.6"
  }
 },
 "nbformat": 4,
 "nbformat_minor": 5
}
