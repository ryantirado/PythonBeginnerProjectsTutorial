{
 "cells": [
  {
   "cell_type": "markdown",
   "id": "3fdc8113-3d01-4a36-8735-1d0f9afc18d5",
   "metadata": {},
   "source": [
    "<h3> Madlibs"
   ]
  },
  {
   "cell_type": "markdown",
   "id": "8999b6b2-895e-4be4-8c17-58a4a016b7db",
   "metadata": {},
   "source": [
    "Leonard Stern and Roger Price created Mad Libs as a phrasal template word game. In this game, participants are asked for words to fill in blanks before reading aloud a story."
   ]
  },
  {
   "cell_type": "code",
   "execution_count": 9,
   "id": "4da3a7d6-8073-4e93-a647-2f9586a40895",
   "metadata": {},
   "outputs": [],
   "source": [
    "youtuber = \"Avengedsaint\""
   ]
  },
  {
   "cell_type": "markdown",
   "id": "7a7680ff-9572-47cc-9147-09819bf2c4f4",
   "metadata": {},
   "source": [
    "Below are three examples of a formatted string, often called an \"f-string\" in Python. Introduced in Python 3.6, f-strings are a way to embed expressions inside string literals using curly braces {}. The expressions are replaced with their values."
   ]
  },
  {
   "cell_type": "code",
   "execution_count": 10,
   "id": "6b3fd9ea-587a-483f-95b0-aaaec6536313",
   "metadata": {},
   "outputs": [
    {
     "name": "stdout",
     "output_type": "stream",
     "text": [
      "subscribe to Avengedsaint\n"
     ]
    }
   ],
   "source": [
    "print(\"subscribe to \" + youtuber)"
   ]
  },
  {
   "cell_type": "code",
   "execution_count": 11,
   "id": "86c5100a-d8db-4510-b568-3a3e29001936",
   "metadata": {},
   "outputs": [
    {
     "name": "stdout",
     "output_type": "stream",
     "text": [
      "subscribe to Avengedsaint\n"
     ]
    }
   ],
   "source": [
    "print(\"subscribe to {}\".format(youtuber))"
   ]
  },
  {
   "cell_type": "code",
   "execution_count": 12,
   "id": "4276c5f7-d3cb-45f8-b25d-9e1f784451a5",
   "metadata": {},
   "outputs": [
    {
     "name": "stdout",
     "output_type": "stream",
     "text": [
      "subscribe to Avengedsaint\n"
     ]
    }
   ],
   "source": [
    "print(f\"subscribe to {youtuber}\") #I like this one the best "
   ]
  },
  {
   "cell_type": "markdown",
   "id": "ed851a19-98bf-41be-8419-919651dfe904",
   "metadata": {},
   "source": [
    "The following code snippet illustrates a Python program that asks the user for the name of a famous person, two verbs, and an adjective."
   ]
  },
  {
   "cell_type": "code",
   "execution_count": 13,
   "id": "086b7110-7d17-41ae-9c3c-6a0295f5a22b",
   "metadata": {},
   "outputs": [
    {
     "name": "stdin",
     "output_type": "stream",
     "text": [
      "Adjective:  mysterious\n",
      "Verb:  discover\n",
      "Verb:  unravel\n",
      "Famous person:  Einstein\n"
     ]
    }
   ],
   "source": [
    "adj = input(\"Adjective: \")\n",
    "verb1 = input(\"Verb: \")\n",
    "verb2 = input(\"Verb: \")\n",
    "famous_person = input(\"Famous person: \")"
   ]
  },
  {
   "cell_type": "code",
   "execution_count": 16,
   "id": "0b755a01-2cfa-407e-b342-81b267b5a807",
   "metadata": {},
   "outputs": [],
   "source": [
    "madlib = f\"Computer programming is so {adj}! It makes me so intrigued all the time because \\\n",
    "I love to {verb1}. Stay curious and {verb2} theories like you are {famous_person}!\""
   ]
  },
  {
   "cell_type": "code",
   "execution_count": 17,
   "id": "83f42217-e040-44cc-abbe-2b62b5a69604",
   "metadata": {},
   "outputs": [
    {
     "name": "stdout",
     "output_type": "stream",
     "text": [
      "Computer programming is so mysterious! It makes me so intrigued all the time because I love to discover. Stay curious and unravel theories like you are Einstein!\n"
     ]
    }
   ],
   "source": [
    "print(madlib)"
   ]
  },
  {
   "cell_type": "code",
   "execution_count": null,
   "id": "93ae98db-8d60-44c1-87e8-737f3ebc5bf2",
   "metadata": {},
   "outputs": [],
   "source": []
  }
 ],
 "metadata": {
  "kernelspec": {
   "display_name": "Python 3 (ipykernel)",
   "language": "python",
   "name": "python3"
  },
  "language_info": {
   "codemirror_mode": {
    "name": "ipython",
    "version": 3
   },
   "file_extension": ".py",
   "mimetype": "text/x-python",
   "name": "python",
   "nbconvert_exporter": "python",
   "pygments_lexer": "ipython3",
   "version": "3.11.6"
  }
 },
 "nbformat": 4,
 "nbformat_minor": 5
}
